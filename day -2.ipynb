{
 "cells": [
  {
   "cell_type": "code",
   "execution_count": 8,
   "id": "2d67adbe",
   "metadata": {},
   "outputs": [
    {
     "name": "stdout",
     "output_type": "stream",
     "text": [
      "8\n",
      "0.5\n",
      "0\n",
      "2\n"
     ]
    }
   ],
   "source": [
    "x,y = 2,4\n",
    "print(x*y) # multi\n",
    "print(x/y) # div\n",
    "print(x//y) # floor div\n",
    "print(x%y) # reminder"
   ]
  },
  {
   "cell_type": "code",
   "execution_count": 13,
   "id": "8234f9fc",
   "metadata": {},
   "outputs": [
    {
     "name": "stdout",
     "output_type": "stream",
     "text": [
      "False||True\n",
      "True\n"
     ]
    }
   ],
   "source": [
    "x = 10\n",
    "y = 20\n",
    "print(x==y, end = '||')\n",
    "print(x!=y)\n",
    "print(x<=y)"
   ]
  },
  {
   "cell_type": "code",
   "execution_count": 17,
   "id": "a708cea3",
   "metadata": {},
   "outputs": [
    {
     "name": "stdout",
     "output_type": "stream",
     "text": [
      "False\n",
      "True\n"
     ]
    }
   ],
   "source": [
    "x = 'hi'\n",
    "y = 'hello'\n",
    "print(x==y)\n",
    "print(x!=y)"
   ]
  },
  {
   "cell_type": "code",
   "execution_count": 28,
   "id": "fd88e419",
   "metadata": {},
   "outputs": [
    {
     "name": "stdout",
     "output_type": "stream",
     "text": [
      "True\n",
      "True\n",
      "-4\n",
      "True\n",
      "True\n",
      "True\n",
      "True\n",
      "False\n",
      "False\n",
      "True\n",
      "3234273224064 3234267894208\n"
     ]
    }
   ],
   "source": [
    "a = 1\n",
    "b = 1\n",
    "c = [1,2,3]\n",
    "d = [1,2,3]\n",
    "e = 3\n",
    "f = 5\n",
    "g = '1'\n",
    "h = '123'\n",
    "print(a==b)\n",
    "print(c==d)\n",
    "print(~e) # bitwise operator of ~\n",
    "print(e<f and f>e) # logical operator of and\n",
    "print(e<f or F<e) # logical operator of or\n",
    "print(a is b)\n",
    "print(e in d) # membership operator\n",
    "print(e not in d) # memership operator\n",
    "print(c is d)\n",
    "print(g in h) # membership operators\n",
    "print(id(c),id(d))"
   ]
  },
  {
   "cell_type": "code",
   "execution_count": null,
   "id": "8108713f",
   "metadata": {},
   "outputs": [],
   "source": []
  }
 ],
 "metadata": {
  "kernelspec": {
   "display_name": "Python 3 (ipykernel)",
   "language": "python",
   "name": "python3"
  },
  "language_info": {
   "codemirror_mode": {
    "name": "ipython",
    "version": 3
   },
   "file_extension": ".py",
   "mimetype": "text/x-python",
   "name": "python",
   "nbconvert_exporter": "python",
   "pygments_lexer": "ipython3",
   "version": "3.11.2"
  }
 },
 "nbformat": 4,
 "nbformat_minor": 5
}
